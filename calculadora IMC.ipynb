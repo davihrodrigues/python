{
 "cells": [
  {
   "cell_type": "code",
   "execution_count": 10,
   "metadata": {},
   "outputs": [
    {
     "name": "stdout",
     "output_type": "stream",
     "text": [
      "Digite sua altura em metros: 1.76\n",
      "Digite seu peso em Kg: 70\n",
      "Seu IMC É : 22.5981\n",
      "Saúdavel\n"
     ]
    }
   ],
   "source": [
    "altura = float(input(\"Digite sua altura em metros: \"))\n",
    "peso = float(input(\"Digite seu peso em Kg: \"))\n",
    "\n",
    "IMC = peso/ altura **2\n",
    "\n",
    "print (\"Seu IMC É : %.4F\" % IMC)\n",
    "\n",
    "if IMC <18.5:\n",
    "    print(\"Magreza leve\")\n",
    "    \n",
    "if IMC <25:\n",
    "    print(\"Saúdavel\")\n",
    "    \n",
    "if IMC >25:\n",
    "    print(\"Sobrepeso\")\n",
    "    \n",
    "if IMC >30:\n",
    "    print(\"Obesidade\")\n"
   ]
  },
  {
   "cell_type": "code",
   "execution_count": null,
   "metadata": {},
   "outputs": [],
   "source": [
    "\n"
   ]
  },
  {
   "cell_type": "code",
   "execution_count": null,
   "metadata": {},
   "outputs": [],
   "source": []
  },
  {
   "cell_type": "code",
   "execution_count": null,
   "metadata": {},
   "outputs": [],
   "source": []
  },
  {
   "cell_type": "code",
   "execution_count": null,
   "metadata": {},
   "outputs": [],
   "source": []
  }
 ],
 "metadata": {
  "kernelspec": {
   "display_name": "Python 3",
   "language": "python",
   "name": "python3"
  },
  "language_info": {
   "codemirror_mode": {
    "name": "ipython",
    "version": 3
   },
   "file_extension": ".py",
   "mimetype": "text/x-python",
   "name": "python",
   "nbconvert_exporter": "python",
   "pygments_lexer": "ipython3",
   "version": "3.8.3"
  }
 },
 "nbformat": 4,
 "nbformat_minor": 4
}
