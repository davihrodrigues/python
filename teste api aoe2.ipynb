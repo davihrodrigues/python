{
 "cells": [
  {
   "cell_type": "code",
   "execution_count": 4,
   "metadata": {},
   "outputs": [],
   "source": [
    "\n",
    "import requests\n",
    "def valida_01():\n",
    "    url = 'https://age-of-empires-2-api.herokuapp.com/api/v1/civilization/1'\n",
    "\n",
    "    r = requests.get(url)    \n",
    "\n",
    "    if r.status_code == 200:\n",
    "        print('teste com sucesso')\n",
    "    else: \n",
    "        print('teste falhou')\n",
    "        "
   ]
  },
  {
   "cell_type": "code",
   "execution_count": 5,
   "metadata": {},
   "outputs": [],
   "source": [
    "\n",
    "def valida_02():\n",
    "    url = 'https://age-of-empires-2-api.herokuapp.com/api/v1/civilization/2'\n",
    "\n",
    "    r = requests.get(url)    \n",
    "\n",
    "    if r.status_code == 200:\n",
    "        print('teste com sucesso')\n",
    "    else: \n",
    "        print('teste falhou')\n",
    "\n"
   ]
  },
  {
   "cell_type": "code",
   "execution_count": 6,
   "metadata": {
    "scrolled": true
   },
   "outputs": [],
   "source": [
    "\n",
    "def valida_escada():\n",
    "    url = 'https://age-of-empires-2-api.herokuapp.com/api/v1/civilization/escada'\n",
    "\n",
    "    r = requests.get(url)    \n",
    "\n",
    "    if r.status_code == 200:\n",
    "        print('teste com sucesso')\n",
    "    else: \n",
    "        print('teste falhou')\n",
    "\n"
   ]
  },
  {
   "cell_type": "code",
   "execution_count": 7,
   "metadata": {},
   "outputs": [
    {
     "name": "stdout",
     "output_type": "stream",
     "text": [
      "teste com sucesso\n",
      "teste com sucesso\n",
      "teste falhou\n"
     ]
    }
   ],
   "source": [
    "valida_01()\n",
    "valida_02()\n",
    "valida_escada()"
   ]
  },
  {
   "cell_type": "code",
   "execution_count": null,
   "metadata": {},
   "outputs": [],
   "source": []
  },
  {
   "cell_type": "code",
   "execution_count": null,
   "metadata": {},
   "outputs": [],
   "source": []
  }
 ],
 "metadata": {
  "kernelspec": {
   "display_name": "Python 3",
   "language": "python",
   "name": "python3"
  },
  "language_info": {
   "codemirror_mode": {
    "name": "ipython",
    "version": 3
   },
   "file_extension": ".py",
   "mimetype": "text/x-python",
   "name": "python",
   "nbconvert_exporter": "python",
   "pygments_lexer": "ipython3",
   "version": "3.8.3"
  }
 },
 "nbformat": 4,
 "nbformat_minor": 4
}
